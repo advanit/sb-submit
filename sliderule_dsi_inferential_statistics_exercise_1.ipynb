{
 "cells": [
  {
   "cell_type": "markdown",
   "metadata": {},
   "source": [
    "# What is the True Normal Human Body Temperature? \n",
    "\n",
    "#### Background\n",
    "\n",
    "The mean normal body temperature was held to be 37$^{\\circ}$C or 98.6$^{\\circ}$F for more than 120 years since it was first conceptualized and reported by Carl Wunderlich in a famous 1868 book. But, is this value statistically correct?"
   ]
  },
  {
   "cell_type": "markdown",
   "metadata": {},
   "source": [
    "<div class=\"span5 alert alert-info\">\n",
    "<h3>Exercises</h3>\n",
    "\n",
    "<p>In this exercise, you will analyze a dataset of human body temperatures and employ the concepts of hypothesis testing, confidence intervals, and statistical significance.</p>\n",
    "\n",
    "<p>Answer the following questions <b>in this notebook below and submit to your Github account</b>.</p> \n",
    "\n",
    "<ol>\n",
    "<li>  Is the distribution of body temperatures normal? \n",
    "    <ul>\n",
    "    <li> Although this is not a requirement for CLT to hold (read CLT carefully), it gives us some peace of mind that the population may also be normally distributed if we assume that this sample is representative of the population.\n",
    "    </ul>\n",
    "<li>  Is the sample size large? Are the observations independent?\n",
    "    <ul>\n",
    "    <li> Remember that this is a condition for the CLT, and hence the statistical tests we are using, to apply.\n",
    "    </ul>\n",
    "<li>  Is the true population mean really 98.6 degrees F?\n",
    "    <ul>\n",
    "    <li> Would you use a one-sample or two-sample test? Why?\n",
    "    <li> In this situation, is it appropriate to use the $t$ or $z$ statistic? \n",
    "    <li> Now try using the other test. How is the result be different? Why?\n",
    "    </ul>\n",
    "<li>  At what temperature should we consider someone's temperature to be \"abnormal\"?\n",
    "    <ul>\n",
    "    <li> Start by computing the margin of error and confidence interval.\n",
    "    </ul>\n",
    "<li>  Is there a significant difference between males and females in normal temperature?\n",
    "    <ul>\n",
    "    <li> What test did you use and why?\n",
    "    <li> Write a story with your conclusion in the context of the original problem.\n",
    "    </ul>\n",
    "</ol>\n",
    "\n",
    "You can include written notes in notebook cells using Markdown: \n",
    "<ul>\n",
    "   <li> In the control panel at the top, choose Cell > Cell Type > Markdown\n",
    "   <li> Markdown syntax: http://nestacms.com/docs/creating-content/markdown-cheat-sheet\n",
    "</ul>\n",
    "\n",
    "<h3>Resources</h3>\n",
    "\n",
    "<ul>\n",
    "    <li> Information and data sources: http://www.amstat.org/publications/jse/datasets/normtemp.txt\n",
    "    <li> http://www.amstat.org/publications/jse/jse_data_archive.htm\n",
    "    <li> Markdown syntax: http://nestacms.com/docs/creating-content/markdown-cheat-sheet\n",
    "</ul>\n",
    "\n",
    "</div>"
   ]
  },
  {
   "cell_type": "code",
   "execution_count": 180,
   "metadata": {
    "collapsed": true
   },
   "outputs": [],
   "source": [
    "import pandas as pd\n",
    "import numpy as np\n",
    "import matplotlib.pyplot as plt\n",
    "%matplotlib inline\n",
    "\n",
    "df = pd.read_csv('data/human_body_temperature.csv')"
   ]
  },
  {
   "cell_type": "code",
   "execution_count": 115,
   "metadata": {},
   "outputs": [
    {
     "name": "stdout",
     "output_type": "stream",
     "text": [
      "<class 'pandas.core.frame.DataFrame'>\n",
      "RangeIndex: 130 entries, 0 to 129\n",
      "Data columns (total 3 columns):\n",
      "temperature    130 non-null float64\n",
      "gender         130 non-null object\n",
      "heart_rate     130 non-null float64\n",
      "dtypes: float64(2), object(1)\n",
      "memory usage: 3.1+ KB\n"
     ]
    }
   ],
   "source": [
    "# Your work here.\n",
    "df.info()"
   ]
  },
  {
   "cell_type": "code",
   "execution_count": 116,
   "metadata": {},
   "outputs": [
    {
     "data": {
      "text/plain": [
       "count    130.000000\n",
       "mean      98.249231\n",
       "std        0.733183\n",
       "min       96.300000\n",
       "25%       97.800000\n",
       "50%       98.300000\n",
       "75%       98.700000\n",
       "max      100.800000\n",
       "Name: temperature, dtype: float64"
      ]
     },
     "execution_count": 116,
     "metadata": {},
     "output_type": "execute_result"
    }
   ],
   "source": [
    "df.temperature.describe()"
   ]
  },
  {
   "cell_type": "markdown",
   "metadata": {},
   "source": [
    "#### Normal Distribution:\n",
    "Is the distribution of body temperatures normal?"
   ]
  },
  {
   "cell_type": "code",
   "execution_count": 117,
   "metadata": {},
   "outputs": [],
   "source": [
    "mu, sigma = df.temperature.mean(), df.temperature.std() # mean and standard deviation"
   ]
  },
  {
   "cell_type": "code",
   "execution_count": 118,
   "metadata": {},
   "outputs": [],
   "source": [
    "n = df.temperature.size"
   ]
  },
  {
   "cell_type": "code",
   "execution_count": 104,
   "metadata": {},
   "outputs": [
    {
     "data": {
      "text/plain": [
       "<matplotlib.axes._subplots.AxesSubplot at 0x115fd8d68>"
      ]
     },
     "execution_count": 104,
     "metadata": {},
     "output_type": "execute_result"
    },
    {
     "data": {
      "image/png": "[encoded data removed]",
      "text/plain": [
       "<matplotlib.figure.Figure at 0x115fd88d0>"
      ]
     },
     "metadata": {},
     "output_type": "display_data"
    }
   ],
   "source": [
    "df.temperature.hist(bins=100)"
   ]
  },
  {
   "cell_type": "code",
   "execution_count": 119,
   "metadata": {},
   "outputs": [
    {
     "data": {
      "text/plain": [
       "[<matplotlib.lines.Line2D at 0x11820dac8>]"
      ]
     },
     "execution_count": 119,
     "metadata": {},
     "output_type": "execute_result"
    },
    {
     "data": {
      "image/png": "[encoded data removed]",
      "text/plain": [
       "<matplotlib.figure.Figure at 0x11820d9e8>"
      ]
     },
     "metadata": {},
     "output_type": "display_data"
    }
   ],
   "source": [
    "s = np.random.normal(mu, sigma, n)\n",
    "count, bins, ignored = plt.hist(s, 100, normed=True)\n",
    "plt.plot(bins, 1/(sigma * np.sqrt(2 * np.pi)) * np.exp( - (bins - mu)**2 / (2 * sigma**2) ), linewidth=2, color='r')"
   ]
  },
  {
   "cell_type": "code",
   "execution_count": 120,
   "metadata": {},
   "outputs": [
    {
     "data": {
      "text/plain": [
       "False"
      ]
     },
     "execution_count": 120,
     "metadata": {},
     "output_type": "execute_result"
    }
   ],
   "source": [
    "abs(mu - np.mean(s)) < 0.01"
   ]
  },
  {
   "cell_type": "code",
   "execution_count": 121,
   "metadata": {},
   "outputs": [
    {
     "data": {
      "text/plain": [
       "False"
      ]
     },
     "execution_count": 121,
     "metadata": {},
     "output_type": "execute_result"
    }
   ],
   "source": [
    "abs(sigma - np.std(s, ddof=1)) < 0.01"
   ]
  },
  {
   "cell_type": "markdown",
   "metadata": {},
   "source": [
    "The temperature data as a collection shows a relatively normal distribution.  It is not as strong as suggested but it follows a normal trend.  With few data points (130) it still provides an outline.  Also, note that with a random sample using only the mean and the standard deviation, the difference between the data's statistics and the random sample changes.  Between means is always false, between standard deviations varies between true and false.\n",
    "\n",
    "**ANSWER**: Yes"
   ]
  },
  {
   "cell_type": "markdown",
   "metadata": {},
   "source": [
    "#### Sample Size & Independence:\n",
    "*Is the sample size large? Are the observations independent?*"
   ]
  },
  {
   "cell_type": "code",
   "execution_count": 130,
   "metadata": {},
   "outputs": [
    {
     "name": "stdout",
     "output_type": "stream",
     "text": [
      "<class 'pandas.core.frame.DataFrame'>\n",
      "Int64Index: 127 entries, 0 to 129\n",
      "Data columns (total 3 columns):\n",
      "temperature    127 non-null float64\n",
      "gender         127 non-null object\n",
      "heart_rate     127 non-null float64\n",
      "dtypes: float64(2), object(1)\n",
      "memory usage: 4.0+ KB\n"
     ]
    }
   ],
   "source": [
    "df_two = df.drop_duplicates()\n",
    "df_two.info()"
   ]
  },
  {
   "cell_type": "markdown",
   "metadata": {},
   "source": [
    "**Sample size**: CLT says that the sample size should be no more than 30.  In this case, the sample size is 130 observations.  This is good to replicate and create a randomized distribution.  It is adequate.  **Yes, it is large.**\n",
    "\n",
    "**Independence**: Randomness and combination, as numerical categories, may imply independence.  Temperature and heart rate are numerical values.  Also, with df dropping three duplicates (meaning they had the same combination of temperature, heart rate, and gender), it implies that these are literally independent!  **Yes, they are independent!**"
   ]
  },
  {
   "cell_type": "code",
   "execution_count": 158,
   "metadata": {
    "collapsed": true
   },
   "outputs": [],
   "source": [
    "def effectiveSampleSize(data, stepSize = 1) : ## courtesy of Allen Downey's reference Think Stats\n",
    "  \"\"\" Effective sample size, as computed by BEAST Tracer.\"\"\"\n",
    "  samples = len(data)\n",
    "\n",
    "  assert len(data) > 1,\"no stats for short sequences\"\n",
    "  \n",
    "  maxLag = min(samples//3, 1000)\n",
    "\n",
    "  gammaStat = [0,]*maxLag\n",
    "  #varGammaStat = [0,]*maxLag\n",
    "\n",
    "  varStat = 0.0;\n",
    "\n",
    "  if type(data) != np.ndarray :\n",
    "    data = np.array(data)\n",
    "\n",
    "  normalizedData = data - data.mean()\n",
    "  \n",
    "  for lag in range(maxLag) :\n",
    "    v1 = normalizedData[:samples-lag]\n",
    "    v2 = normalizedData[lag:]\n",
    "    v = v1 * v2\n",
    "    gammaStat[lag] = sum(v) / len(v)\n",
    "    #varGammaStat[lag] = sum(v*v) / len(v)\n",
    "    #varGammaStat[lag] -= gammaStat[0] ** 2\n",
    "\n",
    "    # print lag, gammaStat[lag], varGammaStat[lag]\n",
    "    \n",
    "    if lag == 0 :\n",
    "      varStat = gammaStat[0]\n",
    "    elif lag % 2 == 0 :\n",
    "      s = gammaStat[lag-1] + gammaStat[lag]\n",
    "      if s > 0 :\n",
    "         varStat += 2.0*s\n",
    "      else :\n",
    "        break\n",
    "      \n",
    "  # standard error of mean\n",
    "  # stdErrorOfMean = Math.sqrt(varStat/samples);\n",
    "\n",
    "  # auto correlation time\n",
    "  act = stepSize * varStat / gammaStat[0]\n",
    "\n",
    "  # effective sample size\n",
    "  ess = (stepSize * samples) / act\n",
    "\n",
    "  return ess"
   ]
  },
  {
   "cell_type": "code",
   "execution_count": 134,
   "metadata": {},
   "outputs": [
    {
     "data": {
      "text/plain": [
       "129.79550986118835"
      ]
     },
     "execution_count": 134,
     "metadata": {},
     "output_type": "execute_result"
    }
   ],
   "source": [
    "effectiveSampleSize(df.temperature)"
   ]
  },
  {
   "cell_type": "markdown",
   "metadata": {},
   "source": [
    "#### True Population Mean:\n",
    "* Would you use a one-sample or two-sample test? Why?\n",
    "* In this situation, is it appropriate to use the  *t*  or  *z*  statistic?\n",
    "* Now try using the other test. How is the result be different? Why?"
   ]
  },
  {
   "cell_type": "markdown",
   "metadata": {},
   "source": [
    "Here we will uncover the hypothesis testing associated with the true population mean, 98.6, and whether the sample mean is close to it!  \n",
    "\n",
    "$H_0: mean(x) = 98.6$\n",
    "\n",
    "$H_a: mean(x) != 98.6$\n",
    "\n",
    "In this case, a one-sample test is adequate, since this is focusing across all observations regarding temperature.  When dealing with gender, a one-sample test would work.  We'll start with the one-sample T-test since this is the simplest test.  Also, the population parameters are unknown, while the reported mean is 98.6.  Z-statistic works best with known parameters and has a high criteria!  \n",
    "\n",
    "**Student's T-test**: \n",
    "\n",
    "$ t = \\frac{\\overline{x} - \\mu}{\\frac{s}{\\sqrt{n}}} $\n",
    "\n",
    "\n",
    "**Z Statistics**: It requires the standard error (SE) and the Z-score\n",
    "\n",
    "$ SE = \\frac{\\theta}{\\sqrt{N}} $ \n",
    "\n",
    "$ z = \\frac{M-\\mu}{SE}$ \n",
    "\n",
    "**Criteria**: Using the T-table, for a one-sample T-test with 129 degrees of freedom and a confidence interval of 95%, the t-statistic is **-1.98**.  "
   ]
  },
  {
   "cell_type": "code",
   "execution_count": 152,
   "metadata": {},
   "outputs": [
    {
     "data": {
      "text/plain": [
       "(-5.4548232923640789, 2.4106320415609943e-07)"
      ]
     },
     "execution_count": 152,
     "metadata": {},
     "output_type": "execute_result"
    }
   ],
   "source": [
    "# T-test\n",
    "# Regular method\n",
    "t_stat = (mu-98.6)/(sigma/np.sqrt(n)) # t-score\n",
    "pval = stats.t.sf(np.abs(t_stat), n-1)*2 # p-value\n",
    "t_stat, pval"
   ]
  },
  {
   "cell_type": "code",
   "execution_count": 150,
   "metadata": {},
   "outputs": [
    {
     "data": {
      "text/plain": [
       "Ttest_1sampResult(statistic=-5.4548232923645195, pvalue=2.4106320415561276e-07)"
      ]
     },
     "execution_count": 150,
     "metadata": {},
     "output_type": "execute_result"
    }
   ],
   "source": [
    "# T-test with scipy.stats\n",
    "stats.ttest_1samp(df.temperature,98.6)"
   ]
  },
  {
   "cell_type": "code",
   "execution_count": 157,
   "metadata": {},
   "outputs": [
    {
     "data": {
      "text/plain": [
       "(-5.4548232923640789, 2.4510785070566898e-08)"
      ]
     },
     "execution_count": 157,
     "metadata": {},
     "output_type": "execute_result"
    }
   ],
   "source": [
    "# Z-test\n",
    "se = (sigma)/np.sqrt(n) # standard error\n",
    "z_score = (mu-98.6)/se  # z-score\n",
    "p_values = stats.norm.sf(abs(z_score)) # one-sided\n",
    "z_score, p_values"
   ]
  },
  {
   "cell_type": "markdown",
   "metadata": {},
   "source": [
    "As shown above, the t-statistic is -5.46 < -1.98.  But the p-value is 2.41e-7, which means that this is statistically significant.  We can **reject the null hypothesis** that the sample mean is similar to the population mean and now test the alterantive hypothesis.  And with looking at the z-score and its associative p-value, it too validates this rejection. "
   ]
  },
  {
   "cell_type": "markdown",
   "metadata": {},
   "source": [
    "#### Abnormal Temperature:\n",
    "*At what point should we consider someone's temperature to be abnormal.*\n",
    "We would consider someone's temperature to be abnormal if it is outside a confidence interval (CI) of 95%. \n",
    "\n",
    "$ CI = \\mu \\pm t^* * \\frac{\\theta}{\\sqrt{N}}$\n",
    "\n",
    "Start by computing the margin of error and confidence interval.  Here, *t\\** = 1.98 to correspond to a 95% percentile.  Another level would be to indicate the possibility of an interquartile range, in this case 1.5 * IQR.  So the mean + 1.5 * IQR may provide a unique solution."
   ]
  },
  {
   "cell_type": "code",
   "execution_count": 176,
   "metadata": {},
   "outputs": [
    {
     "data": {
      "text/plain": [
       "(0.12732274533902418, [98.121908023891748, 98.376553514569807])"
      ]
     },
     "execution_count": 176,
     "metadata": {},
     "output_type": "execute_result"
    }
   ],
   "source": [
    "# Margin of error = critical value * standard error, @ 95%\n",
    "ME = 1.980 * se\n",
    "CI = [mu - ME , mu + ME]\n",
    "ME, CI"
   ]
  },
  {
   "cell_type": "code",
   "execution_count": 173,
   "metadata": {},
   "outputs": [
    {
     "data": {
      "text/plain": [
       "(98.122002905608042, 98.376458632853513)"
      ]
     },
     "execution_count": 173,
     "metadata": {},
     "output_type": "execute_result"
    }
   ],
   "source": [
    "# Confidence Interval @ 95%\n",
    "stats.t.interval(0.95,                         # Confidence level\n",
    "                 df = 129,                     # Degrees of freedom\n",
    "                 loc = mu,                     # Sample mean\n",
    "                 scale= sigma/np.sqrt(n))      # Standard dev estimate"
   ]
  },
  {
   "cell_type": "code",
   "execution_count": 178,
   "metadata": {},
   "outputs": [
    {
     "data": {
      "text/plain": [
       "(0.16847757211527445, [98.080753197115499, 98.417708341346056])"
      ]
     },
     "execution_count": 178,
     "metadata": {},
     "output_type": "execute_result"
    }
   ],
   "source": [
    "# Margin of error, @ 99%\n",
    "ME = 2.62 * se\n",
    "CI = [mu - ME , mu + ME]\n",
    "ME, CI"
   ]
  },
  {
   "cell_type": "code",
   "execution_count": 179,
   "metadata": {},
   "outputs": [
    {
     "data": {
      "text/plain": [
       "(98.08110824239759, 98.417353296063965)"
      ]
     },
     "execution_count": 179,
     "metadata": {},
     "output_type": "execute_result"
    }
   ],
   "source": [
    "# Confidence Interval @ 99%\n",
    "stats.t.interval(0.99,                        # Confidence level\n",
    "                 df = 129,                    # Degrees of freedom\n",
    "                 loc = mu,                    # Sample mean\n",
    "                 scale= sigma/np.sqrt(n))     # Standard dev estimate"
   ]
  },
  {
   "cell_type": "markdown",
   "metadata": {},
   "source": [
    "So between 98.12 and 98.38 degrees Fahrenheit is a healthy interval relatively 100% of the time (keep in mind, the p-value is in magnitude of -7).  Anything outside these (i.e. x < 98.12 , x > 98.38)  would be abnormal.  "
   ]
  },
  {
   "cell_type": "markdown",
   "metadata": {},
   "source": [
    "#### Male vs Female Temperature:\n",
    "*Is there a significant difference between males and females in normal temperature?*\n",
    "\n",
    "To repeat using two different distributions (male and female), the steps include:\n",
    "\n",
    "* Normal distribution (probably)\n",
    "* CLT qualifications (sample size, independence): both samples are large (n > 30)\n",
    "* True population mean\n",
    "* Abnormal distributions"
   ]
  },
  {
   "cell_type": "code",
   "execution_count": 182,
   "metadata": {},
   "outputs": [],
   "source": [
    "# Differentiate temperatures by gender\n",
    "mtmp = df[df.gender=='M'].temperature\n",
    "wtmp = df[df.gender=='F'].temperature"
   ]
  },
  {
   "cell_type": "code",
   "execution_count": 241,
   "metadata": {},
   "outputs": [
    {
     "data": {
      "text/plain": [
       "((98.1046153846154, 0.6987557623265908, 65),\n",
       " (98.39384615384613, 0.7434877527313665, 65))"
      ]
     },
     "execution_count": 241,
     "metadata": {},
     "output_type": "execute_result"
    }
   ],
   "source": [
    "# Mean, standard deviation, sample size\n",
    "mmu, msigma, mn = mtmp.mean(), mtmp.std(), mtmp.size\n",
    "wmu, wsigma, wn = wtmp.mean(), wtmp.std(), wtmp.size\n",
    "(mmu, msigma, mn), (wmu, wsigma, wn)"
   ]
  },
  {
   "cell_type": "code",
   "execution_count": 214,
   "metadata": {},
   "outputs": [
    {
     "data": {
      "image/png": "[encoded data removed]",
      "text/plain": [
       "<matplotlib.figure.Figure at 0x11bc6f668>"
      ]
     },
     "metadata": {},
     "output_type": "display_data"
    }
   ],
   "source": [
    "mtmp.hist(bins=100);"
   ]
  },
  {
   "cell_type": "code",
   "execution_count": 215,
   "metadata": {},
   "outputs": [
    {
     "data": {
      "image/png": "[encoded data removed]",
      "text/plain": [
       "<matplotlib.figure.Figure at 0x11d0785c0>"
      ]
     },
     "metadata": {},
     "output_type": "display_data"
    }
   ],
   "source": [
    "wtmp.hist(bins=100, color='pink');"
   ]
  },
  {
   "cell_type": "markdown",
   "metadata": {},
   "source": [
    "**Central Limit Theorem**: \n",
    "Both distributions male and female ...\n",
    "1. look normal.\n",
    "2. have sample sizes over 30.\n",
    "3. have independent observations (women's temperatures doesn't affect men's temperature, vice versa)."
   ]
  },
  {
   "cell_type": "markdown",
   "metadata": {},
   "source": [
    "**True Population Mean**:\n",
    "Because of two separations from the same sample, this will use a two-sample T-test. With unknown population parameters in play, we'll go with a T-statistic.  The hypothesis testing provides the following:\n",
    "\n",
    "$H_0: \\overline{x_m} = \\overline{x_w} $  \n",
    "$H_a: \\overline{x_m} != \\overline{x_w} $\n",
    "\n",
    "Let's calculate some statistics.\n",
    "\n",
    "$t = \\frac{\\overline{X_1}-\\overline{X_2}}{s_\\overline{\\delta}}$\n",
    "\n",
    "$s_\\overline{\\delta} = \\sqrt{\\frac{{s_1}^2}{{n_1}^2}+\\frac{{s_2}^2}{{n_2}^2}}$\n",
    "\n",
    "$v = \\frac{(\\frac{{s_1}^2}{n_1})+(\\frac{{s_2}^2}{n_2})^2})^2\n",
    "{\\frac{\\frac{{{s_1}^2}{n_1})^2}}{n_1-1} + \\frac{\\frac{{s_2}^2}{{n_2}^2}}{n_2-1}} $ "
   ]
  },
  {
   "cell_type": "code",
   "execution_count": 239,
   "metadata": {},
   "outputs": [
    {
     "data": {
      "text/plain": [
       "(98.1046153846154, 98.39384615384613, 0.289230769230727)"
      ]
     },
     "execution_count": 239,
     "metadata": {},
     "output_type": "execute_result"
    }
   ],
   "source": [
    "# Difference in means\n",
    "diff_mu = abs(mmu - wmu)\n",
    "mmu, wmu, diff_mu"
   ]
  },
  {
   "cell_type": "markdown",
   "metadata": {},
   "source": [
    "**Criteria**: With unequal variance, we must find the proper degrees of freedom, with n_w = n_m = 65."
   ]
  },
  {
   "cell_type": "code",
   "execution_count": 250,
   "metadata": {},
   "outputs": [
    {
     "data": {
      "text/plain": [
       "127.5103008303909"
      ]
     },
     "execution_count": 250,
     "metadata": {},
     "output_type": "execute_result"
    }
   ],
   "source": [
    "v = np.square((np.square(msigma)/mn)+(np.square(wsigma)/wn))/(np.square(np.square(msigma)/mn)/(mn-1)+(np.square(np.square(wsigma)/wn)/(wn-1)))\n",
    "v"
   ]
  },
  {
   "cell_type": "code",
   "execution_count": 240,
   "metadata": {},
   "outputs": [
    {
     "data": {
      "text/plain": [
       "(0.12655395041982642, 2.2854345381652741)"
      ]
     },
     "execution_count": 240,
     "metadata": {},
     "output_type": "execute_result"
    }
   ],
   "source": [
    "# 2-sample t-test (unequal variance)\n",
    "s_q = np.sqrt((np.square(msigma)/mn)+(np.square(wsigma)/wn))\n",
    "t_stat_2 = diff_mu / s_q\n",
    "s_q, t_stat_2"
   ]
  },
  {
   "cell_type": "code",
   "execution_count": 238,
   "metadata": {},
   "outputs": [
    {
     "data": {
      "text/plain": [
       "Ttest_indResult(statistic=2.2854345381656112, pvalue=0.023938264182934196)"
      ]
     },
     "execution_count": 238,
     "metadata": {},
     "output_type": "execute_result"
    }
   ],
   "source": [
    "# 2-sample t-test via scipy\n",
    "stats.ttest_ind(wtmp, mtmp, equal_var=False) "
   ]
  },
  {
   "cell_type": "code",
   "execution_count": 246,
   "metadata": {},
   "outputs": [
    {
     "data": {
      "text/plain": [
       "(0.25057682183125629, [0.038653947399470701, 0.53980759106198328])"
      ]
     },
     "execution_count": 246,
     "metadata": {},
     "output_type": "execute_result"
    }
   ],
   "source": [
    "# Margin of error = critical value * standard error, @ 95%, 1.980\n",
    "ME2 = s_q * 1.98\n",
    "CI2 = [((wmu-mmu) - ME2), ((wmu-mmu) + ME2)]\n",
    "ME2, CI2"
   ]
  },
  {
   "cell_type": "code",
   "execution_count": null,
   "metadata": {
    "collapsed": true
   },
   "outputs": [],
   "source": []
  },
  {
   "cell_type": "code",
   "execution_count": null,
   "metadata": {
    "collapsed": true
   },
   "outputs": [],
   "source": []
  },
  {
   "cell_type": "markdown",
   "metadata": {},
   "source": [
    "### Story"
   ]
  },
  {
   "cell_type": "markdown",
   "metadata": {},
   "source": [
    "In conclusion, Carl Wunderlink suggested in his 1868 book that the mean normal temperature was around 98.6 degrees Fahrenheit.  By using a sample of 130 observations and a popular test (the student's T-test), the null hypothesis (that the sample's mean temperature reflects the population's) was rejected, believing that the temperature wasn't there.  With 95% confidence, it hovered between 98.12 and 98.37 degrees.  It is still used as the de facto mean temperature to describe the human body's temperature.  However, truth is in the details, and the popular metric is just that, an estimate!\n",
    "\n",
    "As for gender differences regarding temperature, the two-sample T-test with 127 degrees of freedom and a confidence interval of 95% promoted a p-value of 0.024.  There is 2.4% that the null hypothesis holds (in other words, the mean temperatures between males and females exist).  Therefore, we may **reject the null hypothesis of gender-neutral temperature**.  95% confidence lies with a gender difference of 0.0386 - 0.539. "
   ]
  },
  {
   "cell_type": "code",
   "execution_count": null,
   "metadata": {
    "collapsed": true
   },
   "outputs": [],
   "source": []
  }
 ],
 "metadata": {
  "kernelspec": {
   "display_name": "Python 3",
   "language": "python",
   "name": "python3"
  },
  "language_info": {
   "codemirror_mode": {
    "name": "ipython",
    "version": 3
   },
   "file_extension": ".py",
   "mimetype": "text/x-python",
   "name": "python",
   "nbconvert_exporter": "python",
   "pygments_lexer": "ipython3",
   "version": "3.6.1"
  }
 },
 "nbformat": 4,
 "nbformat_minor": 1
}
